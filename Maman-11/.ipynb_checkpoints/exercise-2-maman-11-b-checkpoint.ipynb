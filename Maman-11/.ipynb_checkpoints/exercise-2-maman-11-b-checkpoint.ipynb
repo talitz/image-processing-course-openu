{
 "cells": [
  {
   "cell_type": "code",
   "execution_count": 9,
   "id": "43a3174c",
   "metadata": {},
   "outputs": [],
   "source": [
    "from PIL import Image\n",
    "from matplotlib import pyplot as plt\n",
    "import numpy as np\n",
    "import matplotlib.pyplot as plt\n",
    "\n",
    "def dither_matrix(n:int):\n",
    "    if n == 1:\n",
    "        return np.array([[0]])\n",
    "    else:\n",
    "        first = (n ** 2) * dither_matrix(int(n/2))\n",
    "        second = (n ** 2) * dither_matrix(int(n/2)) + 2\n",
    "        third = (n ** 2) * dither_matrix(int(n/2)) + 3\n",
    "        fourth = (n ** 2) * dither_matrix(int(n/2)) + 1\n",
    "        first_col = np.concatenate((first, third), axis=0)\n",
    "        second_col = np.concatenate((second, fourth), axis=0)\n",
    "        return (1/n**2) * np.concatenate((first_col, second_col), axis=1)\n",
    "\n",
    "def get_image(src:str):\n",
    "    img = np.array(Image.open(src))\n",
    "    img_arr = [[(j[0] * 299/1000) + (j[1] * 587/1000) + (j[2] * 114/1000) for j in r] for r in img]\n",
    "    img_gray = np.array(img_arr)\n",
    "    Image.fromarray(img_gray).convert('L').save('gray-scale.png')\n",
    "    return img_gray * (1/255)\n",
    "\n",
    "def ordered_dithering(img_pixel:np.array, dither_m:np.array):\n",
    "    n = np.size(dither_m, axis=0)\n",
    "    x_max = np.size(img_pixel, axis=1)\n",
    "    y_max = np.size(img_pixel, axis=0)\n",
    "    for x in range(x_max):\n",
    "        for y in range(y_max):\n",
    "            i = x % n\n",
    "            j = y % n\n",
    "            if img_pixel[y][x] > dither_m[i][j]:\n",
    "                img_pixel[y][x] = 255\n",
    "            else:\n",
    "                img_pixel[y][x] = 0\n",
    "\n",
    "    Image.fromarray(img_pixel).convert('L').save('dithered.png', bit=1)\n"
   ]
  },
  {
   "cell_type": "code",
   "execution_count": null,
   "id": "4acf72e3",
   "metadata": {},
   "outputs": [],
   "source": [
    "dm = dither_matrix(300)\n",
    "img = get_image('tal-yitzhak.JPG')\n",
    "print('A grayscale version of your image was saved in current directory...')\n",
    "gray_scale = cv2.imread('gray-scale.png')\n",
    "plt.imshow(gray_scale)"
   ]
  },
  {
   "cell_type": "code",
   "execution_count": null,
   "id": "efb00909",
   "metadata": {},
   "outputs": [],
   "source": [
    "ordered_dithering(img, dm)\n",
    "print('Dithering is done...')\n",
    "dithered = cv2.imread('dithered.png')\n",
    "plt.imshow(dithered)"
   ]
  }
 ],
 "metadata": {
  "kernelspec": {
   "display_name": "Python 3 (ipykernel)",
   "language": "python",
   "name": "python3"
  },
  "language_info": {
   "codemirror_mode": {
    "name": "ipython",
    "version": 3
   },
   "file_extension": ".py",
   "mimetype": "text/x-python",
   "name": "python",
   "nbconvert_exporter": "python",
   "pygments_lexer": "ipython3",
   "version": "3.9.8"
  }
 },
 "nbformat": 4,
 "nbformat_minor": 5
}
