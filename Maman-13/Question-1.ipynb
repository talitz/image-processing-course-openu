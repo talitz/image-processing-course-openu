{
 "cells": [
  {
   "cell_type": "code",
   "execution_count": 1,
   "id": "c3df69e8",
   "metadata": {},
   "outputs": [
    {
     "data": {
      "text/plain": [
       "32"
      ]
     },
     "execution_count": 1,
     "metadata": {},
     "output_type": "execute_result"
    }
   ],
   "source": [
    "import numpy as np\n",
    "import cv2\n",
    "from matplotlib import pyplot as plt\n",
    "import matplotlib.image as mpimg\n",
    "import os\n",
    "\n",
    "grayScaleInImage = cv2.imread('cameraman.jpg')\n",
    "grayScaleInImage = cv2.cvtColor(grayScaleInImage, cv2.COLOR_BGR2GRAY)\n",
    "cv2.imshow(\"Original Image\",grayScaleInImage)\n",
    "cv2.waitKey(0)"
   ]
  },
  {
   "cell_type": "code",
   "execution_count": 3,
   "id": "7c90ce04",
   "metadata": {},
   "outputs": [
    {
     "data": {
      "text/plain": [
       "32"
      ]
     },
     "execution_count": 3,
     "metadata": {},
     "output_type": "execute_result"
    }
   ],
   "source": [
    "gaussNoise = 255*np.random.normal(0,1,grayScaleInImage.shape).astype(int)\n",
    "imageAfterGaussNoise = grayScaleInImage+gaussNoise\n",
    "imageAfterGaussNoise = np.clip(imageAfterGaussNoise,0,255)\n",
    "cv2.imshow(\"Image After Gauss Noise\",imageAfterGaussNoise.astype(np.uint8))\n",
    "cv2.waitKey(0)"
   ]
  },
  {
   "cell_type": "code",
   "execution_count": 4,
   "id": "c315f95d",
   "metadata": {},
   "outputs": [
    {
     "data": {
      "text/plain": [
       "13"
      ]
     },
     "execution_count": 4,
     "metadata": {},
     "output_type": "execute_result"
    }
   ],
   "source": [
    "dst = cv2.GaussianBlur(imageAfterGaussNoise.astype('uint8'),(5,5),cv2.BORDER_DEFAULT)\n",
    "cv2.imshow(\"Fixing Image with Gaussian Blur\",dst)\n",
    "cv2.waitKey(0)"
   ]
  },
  {
   "cell_type": "code",
   "execution_count": 6,
   "id": "ae50901c",
   "metadata": {},
   "outputs": [
    {
     "data": {
      "text/plain": [
       "27"
      ]
     },
     "execution_count": 6,
     "metadata": {},
     "output_type": "execute_result"
    }
   ],
   "source": [
    "dst2 = cv2.medianBlur(imageAfterGaussNoise,1)\n",
    "cv2.imshow(\"Fixing Image with Median Blur\",dst2.astype(np.uint8))\n",
    "cv2.waitKey(0)"
   ]
  }
 ],
 "metadata": {
  "kernelspec": {
   "display_name": "Python 3 (ipykernel)",
   "language": "python",
   "name": "python3"
  },
  "language_info": {
   "codemirror_mode": {
    "name": "ipython",
    "version": 3
   },
   "file_extension": ".py",
   "mimetype": "text/x-python",
   "name": "python",
   "nbconvert_exporter": "python",
   "pygments_lexer": "ipython3",
   "version": "3.9.8"
  }
 },
 "nbformat": 4,
 "nbformat_minor": 5
}
