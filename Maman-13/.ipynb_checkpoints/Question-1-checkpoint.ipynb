{
 "cells": [
  {
   "cell_type": "code",
   "execution_count": 17,
   "id": "c3df69e8",
   "metadata": {},
   "outputs": [],
   "source": [
    "import numpy as np\n",
    "import cv2\n",
    "from matplotlib import pyplot as plt\n",
    "import matplotlib.image as mpimg\n",
    "import os\n",
    "\n",
    "grayScaleInImage = mpimg.imread('cameraman.jpg', cv2.IMREAD_GRAYSCALE)\n",
    "plt.imshow(grayScaleInImage)"
   ]
  },
  {
   "cell_type": "code",
   "execution_count": 18,
   "id": "7c90ce04",
   "metadata": {},
   "outputs": [
    {
     "name": "stderr",
     "output_type": "stream",
     "text": [
      "Clipping input data to the valid range for imshow with RGB data ([0..1] for floats or [0..255] for integers).\n"
     ]
    },
    {
     "data": {
      "text/plain": [
       "<matplotlib.image.AxesImage at 0x121ef9760>"
      ]
     },
     "execution_count": 18,
     "metadata": {},
     "output_type": "execute_result"
    },
    {
     "data": {
      "image/png": "[encoded data removed]",
      "text/plain": [
       "<Figure size 432x288 with 1 Axes>"
      ]
     },
     "metadata": {
      "needs_background": "light"
     },
     "output_type": "display_data"
    }
   ],
   "source": [
    "gaussNoise = np.random.normal(0,1,grayScaleInImage.shape)\n",
    "imageAfterGaussNoise = grayScaleInImage+gaussNoise\n",
    "imageAfterGaussNoise = np.clip(imageAfterGaussNoise,0,255)\n",
    "plt.imshow(imageAfterGaussNoise)"
   ]
  },
  {
   "cell_type": "code",
   "execution_count": null,
   "id": "1b9e3b66",
   "metadata": {},
   "outputs": [],
   "source": []
  }
 ],
 "metadata": {
  "kernelspec": {
   "display_name": "Python 3 (ipykernel)",
   "language": "python",
   "name": "python3"
  },
  "language_info": {
   "codemirror_mode": {
    "name": "ipython",
    "version": 3
   },
   "file_extension": ".py",
   "mimetype": "text/x-python",
   "name": "python",
   "nbconvert_exporter": "python",
   "pygments_lexer": "ipython3",
   "version": "3.9.8"
  }
 },
 "nbformat": 4,
 "nbformat_minor": 5
}
